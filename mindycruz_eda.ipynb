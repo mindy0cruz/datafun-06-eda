{
 "cells": [
  {
   "cell_type": "markdown",
   "metadata": {},
   "source": [
    "P6: Custom Data Analytics Project- Exercise Data \n",
    "\n",
    "Mindy Cruz\n",
    "June 5, 2024\n",
    "\n",
    "Purpose: Perform and publish a custom EDA project to demnostrate skills with Jupyter, pandas, Seaborn and popular tools for data analytics. The notebook should tell a data story and visually present findings in a clear and engaging manner."
   ]
  },
  {
   "cell_type": "code",
   "execution_count": 1,
   "metadata": {},
   "outputs": [
    {
     "name": "stdout",
     "output_type": "stream",
     "text": [
      "   Unnamed: 0  id     diet  pulse    time  kind\n",
      "0           0   1  low fat     85   1 min  rest\n",
      "1           1   1  low fat     85  15 min  rest\n",
      "2           2   1  low fat     88  30 min  rest\n",
      "3           3   2  low fat     90   1 min  rest\n",
      "4           4   2  low fat     92  15 min  rest\n"
     ]
    }
   ],
   "source": [
    "## Import Dependencies\n",
    "\n",
    "import matplotlib.pyplot as plt\n",
    "import pandas as pd\n",
    "import seaborn as sns\n",
    "\n",
    "# Data Aquisition\n",
    "\n",
    "# Load the dataset into a pandas DataFrame - adjust this process for your custom data\n",
    "df = sns.load_dataset('exercise')\n",
    "\n",
    "# Inspect first rows of the DataFrame\n",
    "print(df.head())"
   ]
  }
 ],
 "metadata": {
  "kernelspec": {
   "display_name": ".venv",
   "language": "python",
   "name": "python3"
  },
  "language_info": {
   "codemirror_mode": {
    "name": "ipython",
    "version": 3
   },
   "file_extension": ".py",
   "mimetype": "text/x-python",
   "name": "python",
   "nbconvert_exporter": "python",
   "pygments_lexer": "ipython3",
   "version": "3.12.3"
  }
 },
 "nbformat": 4,
 "nbformat_minor": 2
}
