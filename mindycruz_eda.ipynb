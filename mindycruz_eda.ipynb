{
 "cells": [
  {
   "cell_type": "markdown",
   "metadata": {},
   "source": [
    "P6: Custom Data Analytics Project- Exercise Data \n",
    "\n",
    "Mindy Cruz\n",
    "June 5, 2024\n",
    "\n",
    "Purpose: Perform and publish a custom EDA project to demnostrate skills with Jupyter, pandas, Seaborn and popular tools for data analytics. The notebook should tell a data story and visually present findings in a clear and engaging manner."
   ]
  },
  {
   "cell_type": "code",
   "execution_count": 20,
   "metadata": {},
   "outputs": [
    {
     "name": "stdout",
     "output_type": "stream",
     "text": [
      "   Unnamed: 0  id     diet  pulse    time  kind\n",
      "0           0   1  low fat     85   1 min  rest\n",
      "1           1   1  low fat     85  15 min  rest\n",
      "2           2   1  low fat     88  30 min  rest\n",
      "3           3   2  low fat     90   1 min  rest\n",
      "4           4   2  low fat     92  15 min  rest\n"
     ]
    }
   ],
   "source": [
    "## Import Dependencies\n",
    "\n",
    "import matplotlib.pyplot as plt\n",
    "import pandas as pd\n",
    "import seaborn as sns\n",
    "\n",
    "# Data Aquisition\n",
    "\n",
    "# Load the dataset into a pandas DataFrame - adjust this process for your custom data\n",
    "df = sns.load_dataset('exercise')\n",
    "\n",
    "# Inspect first rows of the DataFrame\n",
    "print(df.head())"
   ]
  },
  {
   "cell_type": "code",
   "execution_count": 21,
   "metadata": {},
   "outputs": [
    {
     "name": "stdout",
     "output_type": "stream",
     "text": [
      "   Unnamed: 0  id     diet  pulse    time  kind\n",
      "0           0   1  low fat     85   1 min  rest\n",
      "1           1   1  low fat     85  15 min  rest\n",
      "2           2   1  low fat     88  30 min  rest\n",
      "3           3   2  low fat     90   1 min  rest\n",
      "4           4   2  low fat     92  15 min  rest\n",
      "5           5   2  low fat     93  30 min  rest\n",
      "6           6   3  low fat     97   1 min  rest\n",
      "7           7   3  low fat     97  15 min  rest\n",
      "8           8   3  low fat     94  30 min  rest\n",
      "9           9   4  low fat     80   1 min  rest\n",
      "(90, 6)\n",
      "Unnamed: 0       int64\n",
      "id               int64\n",
      "diet          category\n",
      "pulse            int64\n",
      "time          category\n",
      "kind          category\n",
      "dtype: object\n"
     ]
    }
   ],
   "source": [
    "# Initial Data Inspection\n",
    "\n",
    "\n",
    "print(df.head(10))\n",
    "print(df.shape)\n",
    "print(df.dtypes)"
   ]
  },
  {
   "cell_type": "code",
   "execution_count": 22,
   "metadata": {},
   "outputs": [
    {
     "name": "stdout",
     "output_type": "stream",
     "text": [
      "       Unnamed: 0         id       pulse\n",
      "count   90.000000  90.000000   90.000000\n",
      "mean    44.500000  15.500000   99.700000\n",
      "std     26.124701   8.703932   14.858471\n",
      "min      0.000000   1.000000   80.000000\n",
      "25%     22.250000   8.000000   90.250000\n",
      "50%     44.500000  15.500000   96.000000\n",
      "75%     66.750000  23.000000  103.000000\n",
      "max     89.000000  30.000000  150.000000\n"
     ]
    }
   ],
   "source": [
    "# Initial Descriptive Stats \n",
    "\n",
    "print(df.describe())"
   ]
  },
  {
   "cell_type": "code",
   "execution_count": 23,
   "metadata": {},
   "outputs": [
    {
     "data": {
      "image/png": "[encoded data removed]",
      "text/plain": [
       "<Figure size 640x480 with 1 Axes>"
      ]
     },
     "metadata": {},
     "output_type": "display_data"
    }
   ],
   "source": [
    "# Initial Data Distribution for Pulse\n",
    "\n",
    "# Inspect histogram by numerical column\n",
    "df['pulse'].hist()\n",
    "\n",
    "# Show all plots\n",
    "plt.show()"
   ]
  },
  {
   "cell_type": "markdown",
   "metadata": {},
   "source": [
    "Observations:\n"
   ]
  },
  {
   "cell_type": "code",
   "execution_count": 24,
   "metadata": {},
   "outputs": [
    {
     "data": {
      "image/png": "[encoded data removed]",
      "text/plain": [
       "<Figure size 640x480 with 4 Axes>"
      ]
     },
     "metadata": {},
     "output_type": "display_data"
    }
   ],
   "source": [
    "#  Initial Data Distribution for Categorical Columns\n",
    "\n",
    "# Inspect histograms for all numerical columns\n",
    "df.hist()\n",
    "\n",
    "# Show all plots\n",
    "plt.show()\n"
   ]
  },
  {
   "cell_type": "markdown",
   "metadata": {},
   "source": [
    "Observations:"
   ]
  },
  {
   "cell_type": "code",
   "execution_count": 32,
   "metadata": {},
   "outputs": [
    {
     "name": "stdout",
     "output_type": "stream",
     "text": [
      "   Unnamed: 0  id     diet  Heart Rate Time Active Exercise Type  \\\n",
      "0           0   1  low fat          85       1 min          rest   \n",
      "1           1   1  low fat          85      15 min          rest   \n",
      "2           2   1  low fat          88      30 min          rest   \n",
      "3           3   2  low fat          90       1 min          rest   \n",
      "4           4   2  low fat          92      15 min          rest   \n",
      "5           5   2  low fat          93      30 min          rest   \n",
      "6           6   3  low fat          97       1 min          rest   \n",
      "7           7   3  low fat          97      15 min          rest   \n",
      "8           8   3  low fat          94      30 min          rest   \n",
      "9           9   4  low fat          80       1 min          rest   \n",
      "\n",
      "   Average Heart Rate  \n",
      "0                99.7  \n",
      "1                99.7  \n",
      "2                99.7  \n",
      "3                99.7  \n",
      "4                99.7  \n",
      "5                99.7  \n",
      "6                99.7  \n",
      "7                99.7  \n",
      "8                99.7  \n",
      "9                99.7  \n"
     ]
    }
   ],
   "source": [
    " #Initial Data Transformation and Feature Engineering\n",
    "\n",
    "#Rename columns\n",
    "df.rename(columns={'pulse': 'Heart Rate'}, inplace=True)\n",
    "df.rename(columns={'kind': 'Exercise Type'}, inplace=True)\n",
    "df.rename(columns={'time': 'Time Active'}, inplace=True)\n",
    "\n",
    "#Calculate \n",
    "average_heart_rate = df['Heart Rate'].mean()\n",
    "\n",
    "#New Column\n",
    "df['Average Heart Rate'] = average_heart_rate\n",
    "\n",
    "\n",
    "#Check data transformations\n",
    "print(df.head(10))"
   ]
  },
  {
   "cell_type": "markdown",
   "metadata": {},
   "source": [
    "Obersvations:"
   ]
  },
  {
   "cell_type": "code",
   "execution_count": null,
   "metadata": {},
   "outputs": [],
   "source": [
    "#Initial Visualizations\n",
    "\n"
   ]
  }
 ],
 "metadata": {
  "kernelspec": {
   "display_name": ".venv",
   "language": "python",
   "name": "python3"
  },
  "language_info": {
   "codemirror_mode": {
    "name": "ipython",
    "version": 3
   },
   "file_extension": ".py",
   "mimetype": "text/x-python",
   "name": "python",
   "nbconvert_exporter": "python",
   "pygments_lexer": "ipython3",
   "version": "3.12.3"
  }
 },
 "nbformat": 4,
 "nbformat_minor": 2
}
